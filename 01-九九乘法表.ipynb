{
 "cells": [
  {
   "cell_type": "markdown",
   "metadata": {},
   "source": [
    "## 1 解题思路"
   ]
  },
  {
   "cell_type": "markdown",
   "metadata": {},
   "source": [
    "1. 因数从1到9逐个循环，可以使用循环结构（for循环、while循环）  \n",
    "2. 分行与列考虑，共9行9列，嵌套循环  \n",
    "3. 遍历1-9 的数字序列，可以使用range()函数  \n",
    "4. 利用format将字符串格式化，让数据按照几成几等于几的固定格式显示  "
   ]
  },
  {
   "cell_type": "markdown",
   "metadata": {},
   "source": [
    "## 2 解题方法"
   ]
  },
  {
   "cell_type": "code",
   "execution_count": 8,
   "metadata": {},
   "outputs": [
    {
     "name": "stdout",
     "output_type": "stream",
     "text": [
      "1x1=1\t \n",
      "1x2=2\t 2x2=4\t \n",
      "1x3=3\t 2x3=6\t 3x3=9\t \n",
      "1x4=4\t 2x4=8\t 3x4=12\t 4x4=16\t \n",
      "1x5=5\t 2x5=10\t 3x5=15\t 4x5=20\t 5x5=25\t \n",
      "1x6=6\t 2x6=12\t 3x6=18\t 4x6=24\t 5x6=30\t 6x6=36\t \n",
      "1x7=7\t 2x7=14\t 3x7=21\t 4x7=28\t 5x7=35\t 6x7=42\t 7x7=49\t \n",
      "1x8=8\t 2x8=16\t 3x8=24\t 4x8=32\t 5x8=40\t 6x8=48\t 7x8=56\t 8x8=64\t \n",
      "1x9=9\t 2x9=18\t 3x9=27\t 4x9=36\t 5x9=45\t 6x9=54\t 7x9=63\t 8x9=72\t 9x9=81\t \n"
     ]
    }
   ],
   "source": [
    "import time\n",
    "for i in range(1, 10):\n",
    "    for j in range(1, i+1):\n",
    "        print('{}x{}={}\\t'.format(j, i, i*j), end=' ')\n",
    "        #time.sleep(0.5)\n",
    "    print()\n",
    "    time.sleep(0.5)"
   ]
  },
  {
   "cell_type": "markdown",
   "metadata": {},
   "source": [
    "第1行： 用for语句遍历1至9的整数，为变量 i 赋值  \n",
    "第2行： 在第一个for语句的基础上嵌套一个for语句，遍历 1 至 i 的整数，为 j 赋值  \n",
    "第3行： 用print函数打印结果，format方法格式化字符串；\\t代表的是tab键，也就是4个空格；end = ‘’表示在每一个计算结束时加一个空格  \n",
    "第4行： 执行完一次循环后，用print函数换行输出，继续下一次循环，直至输出九行九列的乘法表  "
   ]
  },
  {
   "cell_type": "markdown",
   "metadata": {},
   "source": [
    "这里用到了range函数和format函数，简单讲解下这两个函数：  \n",
    "**range()函数**  \n",
    "range() 函数可创建一个整数列表，一般用在 for 循环中遍历数字序列  \n",
    "语法：  \n",
    "range(start, stop [step])  \n",
    "range(stop)  \n",
    "\n",
    "参数说明：  \n",
    "start: 计数从 start 开始。默认是从0开始。  \n",
    "stop: 计数到 stop 结束，但不包括stop。  \n",
    "\n",
    "例如：range（5）等价于range（0,5）,表示0，1，2，3，4  \n",
    "range（2）等价于range（0,2）表示为0，1  \n",
    "range（1，10）输出就为1，2，3，4，5，6，7，8，9  \n",
    "range（1，4）输出的值为1，2，3  \n",
    "\n",
    "step：步长，默认为1。  \n",
    "例如：range（1，10）等价于 range(1, 10, 1)，输出就为1，2，3，4，5，6，7，8，9  \n",
    "range（1，10，2），step为2，输出就为1， 3， 5，7，9  \n",
    "\n",
    "**format函数：**  \n",
    "format函数是格式化字符串的一种方法  \n",
    "语法：  \n",
    "'{}'.format()  \n",
    "大括号{}来标明被替换的字符  \n",
    "\n",
    "基本用法：  \n",
    "按照{}的顺序依次匹配括号中的值  "
   ]
  },
  {
   "cell_type": "code",
   "execution_count": 5,
   "metadata": {},
   "outputs": [
    {
     "name": "stdout",
     "output_type": "stream",
     "text": [
      "Elaine is a girl\n"
     ]
    }
   ],
   "source": [
    "s = \"{} is a {}\".format('Elaine', 'girl')\n",
    "print(s)  # Tom is a Boy"
   ]
  },
  {
   "cell_type": "markdown",
   "metadata": {},
   "source": [
    "通过索引的方式去匹配参数"
   ]
  },
  {
   "cell_type": "code",
   "execution_count": 6,
   "metadata": {},
   "outputs": [
    {
     "name": "stdout",
     "output_type": "stream",
     "text": [
      "Tom is a Boy\n"
     ]
    }
   ],
   "source": [
    "s = \"{0} is a {1}\".format('Tom', 'Boy')\n",
    "print(s)  # Tom is a Boy"
   ]
  },
  {
   "cell_type": "markdown",
   "metadata": {},
   "source": [
    "通过参数名来匹配参数"
   ]
  },
  {
   "cell_type": "code",
   "execution_count": 7,
   "metadata": {},
   "outputs": [
    {
     "name": "stdout",
     "output_type": "stream",
     "text": [
      "Tom is a Boy\n"
     ]
    }
   ],
   "source": [
    "s = \"{name} is a {sex}\".format(name='Tom', sex='Boy')\n",
    "print(s)  # Tom is a Boy"
   ]
  }
 ],
 "metadata": {
  "kernelspec": {
   "display_name": "Python 3 (ipykernel)",
   "language": "python",
   "name": "python3"
  },
  "language_info": {
   "codemirror_mode": {
    "name": "ipython",
    "version": 3
   },
   "file_extension": ".py",
   "mimetype": "text/x-python",
   "name": "python",
   "nbconvert_exporter": "python",
   "pygments_lexer": "ipython3",
   "version": "3.9.4"
  }
 },
 "nbformat": 4,
 "nbformat_minor": 2
}
