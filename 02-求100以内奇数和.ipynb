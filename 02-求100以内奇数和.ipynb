{
 "cells": [
  {
   "cell_type": "markdown",
   "metadata": {},
   "source": [
    "## 1 解题思路"
   ]
  },
  {
   "cell_type": "markdown",
   "metadata": {},
   "source": [
    "**对100以内的奇数求和，有四种常见的解题方法：**  \n",
    "\n",
    "* 用range函数遍历100以内的奇数，然后用sum函数求和  \n",
    "* for 循环嵌套if语句，将100以内的奇数相加求和  \n",
    "* while循环将100以内的奇数相加，并打印求和  \n",
    "* 用递归方法求和"
   ]
  },
  {
   "cell_type": "markdown",
   "metadata": {},
   "source": [
    "## 2 解题方法"
   ]
  },
  {
   "cell_type": "markdown",
   "metadata": {},
   "source": [
    "**方法一： sum函数**  \n",
    "'''\n",
    "print(sum(range(1, 100, 2)))\n",
    "'''\n",
    "首先用range函数创建了一个整数列表，range(1, 100, 2)表示取值为1-100(不包括100)的整数，步长为2，输出的值为1，3，5……99\n",
    "\n",
    "更多关于range函数的用法查看第1期-九九乘法表(opens new window)\n",
    "\n",
    "然后用sum函数对100以内的奇数求和\n",
    "最后用print函数将求和结果打印出来\n",
    "\n",
    "这行代码充分体现了Python 语言的简洁性！！！\n",
    "\n",
    "#方法二： for循环\n",
    "count = 0\n",
    "\n",
    "for number in range(100):\n",
    "    if number % 2 == 0:\n",
    "        continue\n",
    "    count += number\n",
    "    \n",
    "print(count)\n",
    "第1行： 设置一个变量count, 初始赋值为0\n",
    "第3行： 用for循环遍历100以内所有的整数\n",
    "第4-6行： 用if语句判断100以内的数是否为奇数，是奇数就相加（if i % 2 == 0,continue的含义是当数字为偶数时退出本次循环）\n",
    "第8行： 用print函数打印其和\n",
    "\n",
    "这是我们在Python基础交互课第六章循环部分讲过的知识点，忘记了的小伙伴可以再学习下课程哦~\n",
    "\n",
    "#方法三： while循环\n",
    "count = 0\n",
    "number = 1\n",
    "\n",
    "while number < 100:\n",
    "    count += number\n",
    "    number += 2\n",
    "    \n",
    "print(count)\n",
    "第1-2行： 设置一个变量count ,初始赋值为0，变量number初始赋值为1\n",
    "第4-6行： 设定while循环的运行条件(number < 100)及执行语句（count += number；number += 2）\n",
    "第8行： 用print函数打印其和\n",
    "\n",
    "#方法四： 递归求和\n",
    "def sum(x):\n",
    "    if x > 99:\n",
    "        return 0\n",
    "    else:\n",
    "        count = sum(x + 2)\n",
    "        return x + count\n",
    "print(sum(1))\n",
    "先看下什么是递归：\n",
    "递归（Recursion）\n",
    "递归是一种解决问题的思路，其精髓在于将问题分解为规模更小的相同问题，直到问题规模小到可以用非常简单直接的方式来解决，其算法方面的明显特征就是：在算法流程中调用自身。\n",
    "\n",
    "也可以说在函数内部调用自己的函数被称之为递归\n",
    "\n",
    "递归算法三定律：\n",
    "\n",
    "必须要有结束条件（最小规模问题的直接解决）\n",
    "必须能向结束条件演进（减小问题规模）\n",
    "必须调用自身（解决减小了规模的相同问题）\n",
    "在这段代码中，\n",
    "第1行： 用def定义 sum 函数，传入参数 x\n",
    "第2-3行： 设定这个设定递归算法的结束条件（if x > 99，return 0）\n",
    "第4-6行： 在算法流程中调用sum函数自身，通过 return函数执行语句\n",
    "第7行： 为x赋值为1，用print函数打印运算结果"
   ]
  },
  {
   "cell_type": "markdown",
   "metadata": {},
   "source": [
    "这里用到了range函数和format函数，简单讲解下这两个函数：\n",
    "range()函数\n",
    "range() 函数可创建一个整数列表，一般用在 for 循环中遍历数字序列\n",
    "语法：\n",
    "range(start, stop [step])\n",
    "range(stop)\n",
    "参数说明：\n",
    "start: 计数从 start 开始。默认是从0开始。\n",
    "stop: 计数到 stop 结束，但不包括stop。\n",
    "\n",
    "例如：range（5）等价于range（0,5）,表示0，1，2，3，4\n",
    "range（2）等价于range（0,2）表示为0，1\n",
    "range（1，10）输出就为1，2，3，4，5，6，7，8，9\n",
    "range（1，4）输出的值为1，2，3\n",
    "\n",
    "step：步长，默认为1。\n",
    "例如：range（1，10）等价于 range(1, 10, 1)，输出就为1，2，3，4，5，6，7，8，9\n",
    "range（1，10，2），step为2，输出就为1， 3， 5，7，9\n",
    "\n",
    "format函数：\n",
    "format函数是格式化字符串的一种方法\n",
    "语法：\n",
    "'{}'.format()\n",
    "大括号{}来标明被替换的字符\n",
    "\n",
    "基本用法：\n",
    "按照{}的顺序依次匹配括号中的值"
   ]
  },
  {
   "cell_type": "code",
   "execution_count": 7,
   "metadata": {},
   "outputs": [
    {
     "name": "stdout",
     "output_type": "stream",
     "text": [
      "Tom is a Boy\n"
     ]
    }
   ],
   "source": [
    "s = \"{} is a {}\".format('Tom', 'Boy')\n",
    "print(s)  # Tom is a Boy"
   ]
  },
  {
   "cell_type": "markdown",
   "metadata": {},
   "source": [
    "通过索引的方式去匹配参数"
   ]
  },
  {
   "cell_type": "code",
   "execution_count": 8,
   "metadata": {},
   "outputs": [
    {
     "name": "stdout",
     "output_type": "stream",
     "text": [
      "Tom is a Boy\n"
     ]
    }
   ],
   "source": [
    "s = \"{0} is a {1}\".format('Tom', 'Boy')\n",
    "print(s)  # Tom is a Boy"
   ]
  },
  {
   "cell_type": "markdown",
   "metadata": {},
   "source": [
    "通过参数名来匹配参数"
   ]
  },
  {
   "cell_type": "code",
   "execution_count": 1,
   "metadata": {},
   "outputs": [
    {
     "name": "stdout",
     "output_type": "stream",
     "text": [
      "Tom is a Boy\n"
     ]
    }
   ],
   "source": [
    "s = \"{name} is a {sex}\".format(name='Tom', sex='Boy')\n",
    "print(s)  # Tom is a Boy"
   ]
  },
  {
   "cell_type": "code",
   "execution_count": 19,
   "metadata": {},
   "outputs": [],
   "source": [
    "import random, easygui\n",
    "secret = random.randint(1, 99)\n",
    "guess = 0\n",
    "tries = 0\n",
    "easygui.msgbox(\"\"\"AHOY! I'm the Dread Pirate Roberts, and I have a secret! It is a number from 1 to 99. I'll give you 6 tries.\"\"\")\n",
    "while guess != secret and tries < 8:\n",
    "    guess=easygui.integerbox(\"What'syer guess, matey?\")\n",
    "    if not guess:break\n",
    "    if guess < secret:\n",
    "        easygui.msgbox(str(guess)+ \" is too low, ye securvy dog!\")\n",
    "    elif guess > secret:\n",
    "        easygui.msgbox(str(guess)+ \" is too high, landlubber!\")\n",
    "    tries = tries + 1\n",
    "if guess == secret:\n",
    "    easygui.msgbox(\"Avast! Ye got it! Found my secret, ye did!\")\n",
    "else:\n",
    "    easygui.msgbox(\"No more guesses! The number was \" + str(secret))\n",
    "    "
   ]
  },
  {
   "cell_type": "code",
   "execution_count": null,
   "metadata": {},
   "outputs": [],
   "source": []
  }
 ],
 "metadata": {
  "kernelspec": {
   "display_name": "Python 3 (ipykernel)",
   "language": "python",
   "name": "python3"
  },
  "language_info": {
   "codemirror_mode": {
    "name": "ipython",
    "version": 3
   },
   "file_extension": ".py",
   "mimetype": "text/x-python",
   "name": "python",
   "nbconvert_exporter": "python",
   "pygments_lexer": "ipython3",
   "version": "3.9.4"
  }
 },
 "nbformat": 4,
 "nbformat_minor": 2
}
